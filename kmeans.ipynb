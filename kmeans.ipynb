{
 "cells": [
  {
   "cell_type": "code",
   "execution_count": 1,
   "metadata": {},
   "outputs": [
    {
     "ename": "ModuleNotFoundError",
     "evalue": "No module named 'scipy'",
     "output_type": "error",
     "traceback": [
      "\u001b[1;31m---------------------------------------------------------------------------\u001b[0m",
      "\u001b[1;31mModuleNotFoundError\u001b[0m                       Traceback (most recent call last)",
      "Cell \u001b[1;32mIn[1], line 4\u001b[0m\n\u001b[0;32m      2\u001b[0m \u001b[38;5;28;01mimport\u001b[39;00m \u001b[38;5;21;01mnumpy\u001b[39;00m \u001b[38;5;28;01mas\u001b[39;00m \u001b[38;5;21;01mnp\u001b[39;00m\n\u001b[0;32m      3\u001b[0m \u001b[38;5;28;01mimport\u001b[39;00m \u001b[38;5;21;01mmatplotlib\u001b[39;00m\u001b[38;5;21;01m.\u001b[39;00m\u001b[38;5;21;01mpyplot\u001b[39;00m \u001b[38;5;28;01mas\u001b[39;00m \u001b[38;5;21;01mplt\u001b[39;00m\n\u001b[1;32m----> 4\u001b[0m \u001b[38;5;28;01mfrom\u001b[39;00m \u001b[38;5;21;01mscipy\u001b[39;00m\u001b[38;5;21;01m.\u001b[39;00m\u001b[38;5;21;01mspatial\u001b[39;00m\u001b[38;5;21;01m.\u001b[39;00m\u001b[38;5;21;01mdistance\u001b[39;00m \u001b[38;5;28;01mimport\u001b[39;00m cdist\n\u001b[0;32m      5\u001b[0m data \u001b[38;5;241m=\u001b[39m pd\u001b[38;5;241m.\u001b[39mread_csv(\u001b[38;5;124m'\u001b[39m\u001b[38;5;124mdata.csv\u001b[39m\u001b[38;5;124m'\u001b[39m)\n\u001b[0;32m      6\u001b[0m data \u001b[38;5;241m=\u001b[39m data\u001b[38;5;241m.\u001b[39mdrop(\u001b[38;5;124m'\u001b[39m\u001b[38;5;124mcountry\u001b[39m\u001b[38;5;124m'\u001b[39m, axis\u001b[38;5;241m=\u001b[39m\u001b[38;5;241m1\u001b[39m)\n",
      "\u001b[1;31mModuleNotFoundError\u001b[0m: No module named 'scipy'"
     ]
    }
   ],
   "source": [
    "import pandas as pd\n",
    "import numpy as np\n",
    "import matplotlib.pyplot as plt\n",
    "from scipy.spatial.distance import cdist\n",
    "data = pd.read_csv('data.csv')\n",
    "data = data.drop('country', axis=1)\n",
    "\n",
    "display(data.head())"
   ]
  },
  {
   "cell_type": "code",
   "execution_count": 2,
   "metadata": {},
   "outputs": [
    {
     "ename": "NameError",
     "evalue": "name 'data' is not defined",
     "output_type": "error",
     "traceback": [
      "\u001b[1;31m---------------------------------------------------------------------------\u001b[0m",
      "\u001b[1;31mNameError\u001b[0m                                 Traceback (most recent call last)",
      "Cell \u001b[1;32mIn[2], line 1\u001b[0m\n\u001b[1;32m----> 1\u001b[0m Q1 \u001b[38;5;241m=\u001b[39m \u001b[43mdata\u001b[49m\u001b[38;5;241m.\u001b[39mquantile(\u001b[38;5;241m0.25\u001b[39m)\n\u001b[0;32m      2\u001b[0m Q3 \u001b[38;5;241m=\u001b[39m data\u001b[38;5;241m.\u001b[39mquantile(\u001b[38;5;241m0.75\u001b[39m)\n\u001b[0;32m      3\u001b[0m IQR \u001b[38;5;241m=\u001b[39m Q3 \u001b[38;5;241m-\u001b[39m Q1\n",
      "\u001b[1;31mNameError\u001b[0m: name 'data' is not defined"
     ]
    }
   ],
   "source": [
    "Q1 = data.quantile(0.25)\n",
    "Q3 = data.quantile(0.75)\n",
    "IQR = Q3 - Q1\n",
    "lower_bound = Q1 - 1.5 * IQR\n",
    "upper_bound = Q3 + 1.5 * IQR\n",
    "data = data[~((data < lower_bound) | (data > upper_bound)).any(axis=1)]\n",
    "\n",
    "X = (data - data.min()) / (data.max() - data.min())\n",
    "display(X.head())"
   ]
  },
  {
   "cell_type": "code",
   "execution_count": 3,
   "metadata": {},
   "outputs": [
    {
     "ename": "NameError",
     "evalue": "name 'X' is not defined",
     "output_type": "error",
     "traceback": [
      "\u001b[1;31m---------------------------------------------------------------------------\u001b[0m",
      "\u001b[1;31mNameError\u001b[0m                                 Traceback (most recent call last)",
      "Cell \u001b[1;32mIn[3], line 28\u001b[0m\n\u001b[0;32m     25\u001b[0m     \u001b[38;5;28;01mreturn\u001b[39;00m X_pca, explained_variance_ratio\n\u001b[0;32m     27\u001b[0m \u001b[38;5;66;03m# Apply PCA\u001b[39;00m\n\u001b[1;32m---> 28\u001b[0m X_pca, explained_variance \u001b[38;5;241m=\u001b[39m pca(\u001b[43mX\u001b[49m)\n",
      "\u001b[1;31mNameError\u001b[0m: name 'X' is not defined"
     ]
    }
   ],
   "source": [
    "def pca(X, n_components=2):\n",
    "    # Center the data\n",
    "    X_centered = X - np.mean(X, axis=0)\n",
    "    \n",
    "    # Compute covariance matrix\n",
    "    cov_matrix = np.cov(X_centered.T)\n",
    "    \n",
    "    # Compute eigenvalues and eigenvectors\n",
    "    eigenvalues, eigenvectors = np.linalg.eig(cov_matrix)\n",
    "    \n",
    "    # Sort eigenvalues and corresponding eigenvectors in descending order\n",
    "    sorted_indices = np.argsort(eigenvalues)[::-1]\n",
    "    sorted_eigenvalues = eigenvalues[sorted_indices]\n",
    "    sorted_eigenvectors = eigenvectors[:, sorted_indices]\n",
    "    # Select top n_components\n",
    "    selected_eigenvectors = sorted_eigenvectors[:, :n_components]\n",
    "    \n",
    "    # Project data onto new feature space\n",
    "    X_pca = X_centered @ selected_eigenvectors\n",
    "    \n",
    "    # Calculate explained variance ratio\n",
    "    total_variance = np.sum(sorted_eigenvalues)\n",
    "    explained_variance_ratio = sorted_eigenvalues[:n_components] / total_variance\n",
    "    print(explained_variance_ratio)\n",
    "    return X_pca, explained_variance_ratio\n",
    "\n",
    "# Apply PCA\n",
    "X_pca, explained_variance = pca(X)"
   ]
  },
  {
   "cell_type": "code",
   "execution_count": 4,
   "metadata": {},
   "outputs": [],
   "source": [
    "class KMeans:\n",
    "    def __init__(self, n_clusters=3, max_iters=300, random_state=42):\n",
    "        self.n_clusters = n_clusters\n",
    "        self.max_iters = max_iters\n",
    "        np.random.seed(random_state)\n",
    "    \n",
    "    def fit(self, X):\n",
    "        # Ensure X is a NumPy array\n",
    "        X = np.array(X)\n",
    "        \n",
    "        # Random initialization of centroids\n",
    "        centroid_indices = np.random.choice(X.shape[0], self.n_clusters, replace=False)\n",
    "        self.centroids = X[centroid_indices, :]  # NumPy slicing\n",
    "        \n",
    "        for _ in range(self.max_iters):\n",
    "            # Assign clusters\n",
    "            distances = np.sqrt(((X[:, np.newaxis, :] - self.centroids[np.newaxis, :, :])**2).sum(axis=2))\n",
    "            prev_labels = getattr(self, 'labels', None)\n",
    "            self.labels = np.argmin(distances, axis=1)\n",
    "            \n",
    "            # Update centroids\n",
    "            new_centroids = np.array([X[self.labels == k].mean(axis=0) for k in range(self.n_clusters)])\n",
    "            \n",
    "            # Check for convergence\n",
    "            if prev_labels is not None and np.array_equal(prev_labels, self.labels):\n",
    "                break\n",
    "            \n",
    "            self.centroids = new_centroids\n",
    "        \n",
    "        return self"
   ]
  },
  {
   "cell_type": "code",
   "execution_count": 5,
   "metadata": {},
   "outputs": [
    {
     "ename": "NameError",
     "evalue": "name 'X_pca' is not defined",
     "output_type": "error",
     "traceback": [
      "\u001b[1;31m---------------------------------------------------------------------------\u001b[0m",
      "\u001b[1;31mNameError\u001b[0m                                 Traceback (most recent call last)",
      "Cell \u001b[1;32mIn[5], line 3\u001b[0m\n\u001b[0;32m      1\u001b[0m \u001b[38;5;66;03m# Perform K-means Clustering\u001b[39;00m\n\u001b[0;32m      2\u001b[0m kmeans \u001b[38;5;241m=\u001b[39m KMeans(n_clusters\u001b[38;5;241m=\u001b[39m\u001b[38;5;241m3\u001b[39m)\n\u001b[1;32m----> 3\u001b[0m kmeans\u001b[38;5;241m.\u001b[39mfit(\u001b[43mX_pca\u001b[49m)\n\u001b[0;32m      5\u001b[0m \u001b[38;5;66;03m# Ensure X_pca is a NumPy array for compatibility\u001b[39;00m\n\u001b[0;32m      6\u001b[0m X_pca_np \u001b[38;5;241m=\u001b[39m X_pca \u001b[38;5;28;01mif\u001b[39;00m \u001b[38;5;28misinstance\u001b[39m(X_pca, np\u001b[38;5;241m.\u001b[39mndarray) \u001b[38;5;28;01melse\u001b[39;00m X_pca\u001b[38;5;241m.\u001b[39mto_numpy()\n",
      "\u001b[1;31mNameError\u001b[0m: name 'X_pca' is not defined"
     ]
    }
   ],
   "source": [
    "# Perform K-means Clustering\n",
    "kmeans = KMeans(n_clusters=3)\n",
    "kmeans.fit(X_pca)\n",
    "\n",
    "# Ensure X_pca is a NumPy array for compatibility\n",
    "X_pca_np = X_pca if isinstance(X_pca, np.ndarray) else X_pca.to_numpy()"
   ]
  },
  {
   "cell_type": "code",
   "execution_count": 6,
   "metadata": {},
   "outputs": [],
   "source": [
    "def silhouette_score(X, labels):\n",
    "    n_samples = X.shape[0]\n",
    "    unique_labels = np.unique(labels)\n",
    "    \n",
    "    silhouette_values = []\n",
    "    \n",
    "    for i in range(n_samples):\n",
    "        # Compute a(i) - average distance to points in the same cluster\n",
    "        same_cluster_mask = labels == labels[i]\n",
    "        if np.sum(same_cluster_mask) > 1:\n",
    "            a_i = np.mean(cdist([X[i]], X[same_cluster_mask])[0])\n",
    "        else:\n",
    "            a_i = 0\n",
    "        \n",
    "        # Compute b(i) - minimum average distance to points in other clusters\n",
    "        b_i_values = []\n",
    "        for cluster in unique_labels:\n",
    "            if cluster != labels[i]:\n",
    "                other_cluster_mask = labels == cluster\n",
    "                if np.sum(other_cluster_mask) > 0:\n",
    "                    b_i = np.mean(cdist([X[i]], X[other_cluster_mask])[0])\n",
    "                    b_i_values.append(b_i)\n",
    "        \n",
    "        # Minimum distance to other clusters\n",
    "        b_i = min(b_i_values) if b_i_values else 0\n",
    "        \n",
    "        # Silhouette value for this point\n",
    "        silhouette_values.append((b_i - a_i) / max(a_i, b_i) if max(a_i, b_i) != 0 else 0)\n",
    "    return np.mean(silhouette_values)"
   ]
  },
  {
   "cell_type": "code",
   "execution_count": 7,
   "metadata": {},
   "outputs": [
    {
     "ename": "NameError",
     "evalue": "name 'X_pca' is not defined",
     "output_type": "error",
     "traceback": [
      "\u001b[1;31m---------------------------------------------------------------------------\u001b[0m",
      "\u001b[1;31mNameError\u001b[0m                                 Traceback (most recent call last)",
      "Cell \u001b[1;32mIn[7], line 8\u001b[0m\n\u001b[0;32m      6\u001b[0m         inertia \u001b[38;5;241m+\u001b[39m\u001b[38;5;241m=\u001b[39m np\u001b[38;5;241m.\u001b[39msum((point \u001b[38;5;241m-\u001b[39m centroid) \u001b[38;5;241m*\u001b[39m\u001b[38;5;241m*\u001b[39m \u001b[38;5;241m2\u001b[39m)\n\u001b[0;32m      7\u001b[0m     \u001b[38;5;28;01mreturn\u001b[39;00m inertia\n\u001b[1;32m----> 8\u001b[0m inertia \u001b[38;5;241m=\u001b[39m calculate_inertia(\u001b[43mX_pca\u001b[49m, kmeans\u001b[38;5;241m.\u001b[39mlabels, kmeans\u001b[38;5;241m.\u001b[39mcentroids)\n\u001b[0;32m      9\u001b[0m \u001b[38;5;28;01mdef\u001b[39;00m \u001b[38;5;21mcalculate_dunn_index\u001b[39m(X, labels, centroids):\n\u001b[0;32m     10\u001b[0m     \u001b[38;5;66;03m# Inter-cluster distance (minimum distance between centroids of different clusters)\u001b[39;00m\n\u001b[0;32m     11\u001b[0m     inter_cluster_distances \u001b[38;5;241m=\u001b[39m cdist(centroids, centroids, metric\u001b[38;5;241m=\u001b[39m\u001b[38;5;124m'\u001b[39m\u001b[38;5;124meuclidean\u001b[39m\u001b[38;5;124m'\u001b[39m)\n",
      "\u001b[1;31mNameError\u001b[0m: name 'X_pca' is not defined"
     ]
    }
   ],
   "source": [
    "def calculate_inertia(X, labels, centroids):\n",
    "    inertia = 0.0\n",
    "    for i, point in enumerate(X):\n",
    "        # Distance between point and its cluster's centroid\n",
    "        centroid = centroids[labels[i]]\n",
    "        inertia += np.sum((point - centroid) ** 2)\n",
    "    return inertia\n",
    "inertia = calculate_inertia(X_pca, kmeans.labels, kmeans.centroids)\n",
    "def calculate_dunn_index(X, labels, centroids):\n",
    "    # Inter-cluster distance (minimum distance between centroids of different clusters)\n",
    "    inter_cluster_distances = cdist(centroids, centroids, metric='euclidean')\n",
    "    np.fill_diagonal(inter_cluster_distances, np.inf)  # Ignore self-distances\n",
    "    min_inter_cluster_distance = np.min(inter_cluster_distances)\n",
    "    \n",
    "    # Intra-cluster distance (maximum distance within a single cluster)\n",
    "    max_intra_cluster_distance = 0\n",
    "    for k in np.unique(labels):\n",
    "        cluster_points = X[labels == k]\n",
    "        if len(cluster_points) > 1:\n",
    "            intra_distances = cdist(cluster_points, cluster_points, metric='euclidean')\n",
    "            max_intra_cluster_distance = max(max_intra_cluster_distance, np.max(intra_distances))\n",
    "    \n",
    "    # Calculate Dunn Index\n",
    "    dunn_index = min_inter_cluster_distance / max_intra_cluster_distance if max_intra_cluster_distance != 0 else np.inf\n",
    "    return dunn_index\n",
    "dunn_index = calculate_dunn_index(X_pca, kmeans.labels, kmeans.centroids)"
   ]
  },
  {
   "cell_type": "code",
   "execution_count": 8,
   "metadata": {},
   "outputs": [
    {
     "name": "stdout",
     "output_type": "stream",
     "text": [
      "Clustering Evaluation:\n"
     ]
    },
    {
     "ename": "NameError",
     "evalue": "name 'X_pca_np' is not defined",
     "output_type": "error",
     "traceback": [
      "\u001b[1;31m---------------------------------------------------------------------------\u001b[0m",
      "\u001b[1;31mNameError\u001b[0m                                 Traceback (most recent call last)",
      "Cell \u001b[1;32mIn[8], line 2\u001b[0m\n\u001b[0;32m      1\u001b[0m \u001b[38;5;28mprint\u001b[39m(\u001b[38;5;124m\"\u001b[39m\u001b[38;5;124mClustering Evaluation:\u001b[39m\u001b[38;5;124m\"\u001b[39m)\n\u001b[1;32m----> 2\u001b[0m \u001b[38;5;28mprint\u001b[39m(\u001b[38;5;124mf\u001b[39m\u001b[38;5;124m\"\u001b[39m\u001b[38;5;124mSilhouette Score: \u001b[39m\u001b[38;5;132;01m{\u001b[39;00msilhouette_score(\u001b[43mX_pca_np\u001b[49m,\u001b[38;5;250m \u001b[39mkmeans\u001b[38;5;241m.\u001b[39mlabels)\u001b[38;5;132;01m}\u001b[39;00m\u001b[38;5;124m\"\u001b[39m)\n\u001b[0;32m      3\u001b[0m \u001b[38;5;28mprint\u001b[39m(\u001b[38;5;124mf\u001b[39m\u001b[38;5;124m\"\u001b[39m\u001b[38;5;124mDunn Index: \u001b[39m\u001b[38;5;132;01m{\u001b[39;00mdunn_index\u001b[38;5;132;01m}\u001b[39;00m\u001b[38;5;124m\"\u001b[39m)\n\u001b[0;32m      4\u001b[0m \u001b[38;5;28mprint\u001b[39m(\u001b[38;5;124mf\u001b[39m\u001b[38;5;124m\"\u001b[39m\u001b[38;5;124mInertia (Within-Cluster Sum of Squares): \u001b[39m\u001b[38;5;132;01m{\u001b[39;00minertia\u001b[38;5;132;01m}\u001b[39;00m\u001b[38;5;124m\"\u001b[39m)\n",
      "\u001b[1;31mNameError\u001b[0m: name 'X_pca_np' is not defined"
     ]
    }
   ],
   "source": [
    "print(\"Clustering Evaluation:\")\n",
    "print(f\"Silhouette Score: {silhouette_score(X_pca_np, kmeans.labels)}\")\n",
    "print(f\"Dunn Index: {dunn_index}\")\n",
    "print(f\"Inertia (Within-Cluster Sum of Squares): {inertia}\")"
   ]
  },
  {
   "cell_type": "code",
   "execution_count": 9,
   "metadata": {},
   "outputs": [
    {
     "ename": "NameError",
     "evalue": "name 'X_pca_np' is not defined",
     "output_type": "error",
     "traceback": [
      "\u001b[1;31m---------------------------------------------------------------------------\u001b[0m",
      "\u001b[1;31mNameError\u001b[0m                                 Traceback (most recent call last)",
      "Cell \u001b[1;32mIn[9], line 6\u001b[0m\n\u001b[0;32m      4\u001b[0m \u001b[38;5;66;03m# Scatter plot of PCA components\u001b[39;00m\n\u001b[0;32m      5\u001b[0m plt\u001b[38;5;241m.\u001b[39msubplot(\u001b[38;5;241m131\u001b[39m)\n\u001b[1;32m----> 6\u001b[0m scatter \u001b[38;5;241m=\u001b[39m plt\u001b[38;5;241m.\u001b[39mscatter(\u001b[43mX_pca_np\u001b[49m[:, \u001b[38;5;241m0\u001b[39m], X_pca_np[:, \u001b[38;5;241m1\u001b[39m], c\u001b[38;5;241m=\u001b[39mkmeans\u001b[38;5;241m.\u001b[39mlabels, cmap\u001b[38;5;241m=\u001b[39m\u001b[38;5;124m'\u001b[39m\u001b[38;5;124mviridis\u001b[39m\u001b[38;5;124m'\u001b[39m)\n\u001b[0;32m      7\u001b[0m plt\u001b[38;5;241m.\u001b[39mtitle(\u001b[38;5;124m'\u001b[39m\u001b[38;5;124mClustering Visualization (PCA)\u001b[39m\u001b[38;5;124m'\u001b[39m)\n\u001b[0;32m      8\u001b[0m plt\u001b[38;5;241m.\u001b[39mxlabel(\u001b[38;5;124mf\u001b[39m\u001b[38;5;124m'\u001b[39m\u001b[38;5;124mPC1 (Variance: \u001b[39m\u001b[38;5;132;01m{\u001b[39;00mexplained_variance[\u001b[38;5;241m0\u001b[39m]\u001b[38;5;241m*\u001b[39m\u001b[38;5;241m100\u001b[39m\u001b[38;5;132;01m:\u001b[39;00m\u001b[38;5;124m.2f\u001b[39m\u001b[38;5;132;01m}\u001b[39;00m\u001b[38;5;124m%)\u001b[39m\u001b[38;5;124m'\u001b[39m)\n",
      "\u001b[1;31mNameError\u001b[0m: name 'X_pca_np' is not defined"
     ]
    },
    {
     "data": {
      "image/png": "[encoded data removed]",
      "text/plain": [
       "<Figure size 1500x500 with 1 Axes>"
      ]
     },
     "metadata": {},
     "output_type": "display_data"
    }
   ],
   "source": [
    "# Visualizations\n",
    "plt.figure(figsize=(15, 5))\n",
    "\n",
    "# Scatter plot of PCA components\n",
    "plt.subplot(131)\n",
    "scatter = plt.scatter(X_pca_np[:, 0], X_pca_np[:, 1], c=kmeans.labels, cmap='viridis')\n",
    "plt.title('Clustering Visualization (PCA)')\n",
    "plt.xlabel(f'PC1 (Variance: {explained_variance[0]*100:.2f}%)')\n",
    "plt.ylabel(f'PC2 (Variance: {explained_variance[1]*100:.2f}%)')\n",
    "plt.colorbar(scatter)\n",
    "\n",
    "# Elbow Method\n",
    "plt.subplot(132)\n",
    "inertias = []\n",
    "for k in range(1, 11):\n",
    "    kmeans_temp = KMeans(n_clusters=k)\n",
    "    kmeans_temp.fit(X_pca_np)\n",
    "    inertias.append(sum(np.min(cdist(X_pca_np, kmeans_temp.centroids, 'euclidean'), axis=1)))\n",
    "\n",
    "plt.plot(range(1, 11), inertias, marker='o')\n",
    "plt.title('Elbow Method')\n",
    "plt.xlabel('Number of Clusters')\n",
    "plt.ylabel('Inertia')\n",
    "# Silhouette Scores\n",
    "plt.subplot(133)\n",
    "silhouette_scores = []\n",
    "for k in range(2, 11):\n",
    "    kmeans_temp = KMeans(n_clusters=k)\n",
    "    kmeans_temp.fit(X_pca_np)\n",
    "    silhouette_scores.append(silhouette_score(X_pca_np, kmeans_temp.labels))\n",
    "\n",
    "plt.plot(range(2, 11), silhouette_scores, marker='o')\n",
    "plt.title('Silhouette Scores')\n",
    "plt.xlabel('Number of Clusters')\n",
    "plt.ylabel('Silhouette Score')\n",
    "\n",
    "plt.tight_layout()\n",
    "plt.show()\n"
   ]
  },
  {
   "cell_type": "code",
   "execution_count": null,
   "metadata": {},
   "outputs": [],
   "source": []
  }
 ],
 "metadata": {
  "kernelspec": {
   "display_name": "Python 3",
   "language": "python",
   "name": "python3"
  },
  "language_info": {
   "codemirror_mode": {
    "name": "ipython",
    "version": 3
   },
   "file_extension": ".py",
   "mimetype": "text/x-python",
   "name": "python",
   "nbconvert_exporter": "python",
   "pygments_lexer": "ipython3",
   "version": "3.12.0"
  }
 },
 "nbformat": 4,
 "nbformat_minor": 2
}
